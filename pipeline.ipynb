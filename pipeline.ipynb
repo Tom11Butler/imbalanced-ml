{
 "cells": [
  {
   "cell_type": "markdown",
   "id": "63a0f8a8",
   "metadata": {},
   "source": [
    "# Exploring the effect of class imbalance on model performance\n",
    "\n",
    "Starting with the Titanic dataset as a balanced one, we will make the training data more and more imbalanced to show the effects of trying to train with fewer and fewer positive samples."
   ]
  },
  {
   "cell_type": "code",
   "execution_count": 1,
   "id": "48b4bb12",
   "metadata": {},
   "outputs": [],
   "source": [
    "import numpy as np\n",
    "import pandas as pd\n",
    "import json\n",
    "import matplotlib.pyplot as plt\n",
    "from collections import Counter\n",
    "\n",
    "%matplotlib inline\n",
    "\n",
    "from src.preprocessing import preprocessor_pipeline, rebalance_dataset\n",
    "from sklearn.model_selection import train_test_split\n",
    "from sklearn.ensemble import RandomForestClassifier\n",
    "\n",
    "from sklearn.metrics import (\n",
    "    classification_report,\n",
    "    confusion_matrix,\n",
    "    accuracy_score,\n",
    "    precision_score,\n",
    "    recall_score,\n",
    ")\n",
    "\n",
    "%load_ext lab_black"
   ]
  },
  {
   "cell_type": "code",
   "execution_count": 2,
   "id": "0b584ca7",
   "metadata": {},
   "outputs": [],
   "source": [
    "with open(\"src/params.json\", \"r\") as file:\n",
    "    model_params = json.load(file)"
   ]
  },
  {
   "cell_type": "code",
   "execution_count": 4,
   "id": "3100bccb",
   "metadata": {},
   "outputs": [],
   "source": [
    "params = model_params[\"model_parameters\"]"
   ]
  },
  {
   "cell_type": "markdown",
   "id": "8772f5c4",
   "metadata": {},
   "source": [
    "## Load data and split into train/val"
   ]
  },
  {
   "cell_type": "code",
   "execution_count": 5,
   "id": "10731845",
   "metadata": {},
   "outputs": [],
   "source": [
    "train_df = pd.read_csv(\"data/train.csv\")\n",
    "\n",
    "train_df, val_df = train_test_split(\n",
    "    train_df, test_size=0.1, random_state=1, stratify=train_df[\"Survived\"]\n",
    ")\n",
    "train_df, val_df = (train_df.copy(), val_df.copy())"
   ]
  },
  {
   "cell_type": "code",
   "execution_count": 6,
   "id": "3cf7ea8d",
   "metadata": {},
   "outputs": [],
   "source": [
    "label = \"Survived\""
   ]
  },
  {
   "cell_type": "markdown",
   "id": "09ba0e34",
   "metadata": {},
   "source": [
    "# Main training loop"
   ]
  },
  {
   "cell_type": "code",
   "execution_count": 64,
   "id": "cfd1db6c",
   "metadata": {},
   "outputs": [],
   "source": [
    "ratios = [1, 1.1, 1.2, 1.3, 1.4, 1.5, 2, 3, 4, 5, 10]\n",
    "ratios = np.array([np.around(0.1 * x, decimals=1) for x in range(10, 101)])"
   ]
  },
  {
   "cell_type": "code",
   "execution_count": 66,
   "id": "c0d76108",
   "metadata": {
    "collapsed": true,
    "jupyter": {
     "outputs_hidden": true
    }
   },
   "outputs": [],
   "source": [
    "df_dict = dict()\n",
    "\n",
    "X_train_dict = dict()\n",
    "y_train_dict = dict()\n",
    "model_dict = dict()\n",
    "scores_dict = dict()\n",
    "metrics_list = list()\n",
    "\n",
    "# instantiate the preprocessor\n",
    "preprocessor = preprocessor_pipeline(scaling=True)\n",
    "\n",
    "# define feature types\n",
    "categorical_fts = [\"Pclass\", \"Embarked\", \"Sex\"]\n",
    "numerical_fts = [\"Age\", \"Fare\"]\n",
    "input_features = numerical_fts + categorical_fts\n",
    "\n",
    "for ratio in ratios:\n",
    "    df_balanced = rebalance_dataset(train_df, label, ratio)\n",
    "    df_dict[ratio] = df_balanced\n",
    "    print(f\"Ratio {ratio} - df shape {df_dict[ratio].shape}\")\n",
    "\n",
    "    # transform the data\n",
    "    X_train_dict[ratio] = preprocessor.fit_transform(df_balanced[input_features])\n",
    "    y_train_dict[ratio] = df_balanced[label].values\n",
    "\n",
    "    # sort out the validation data\n",
    "    val_tf = preprocessor.transform(val_df[input_features])\n",
    "    val_y = val_df[label].values\n",
    "\n",
    "    # train the model\n",
    "    clf = RandomForestClassifier(**params)\n",
    "    trained_model = clf.fit(X_train_dict[ratio], y_train_dict[ratio])\n",
    "    model_dict[ratio] = trained_model\n",
    "\n",
    "    # get the scores\n",
    "    scores = clf.predict_proba(val_tf)[:, 1]\n",
    "    scores_dict[ratio] = scores\n",
    "    # get the true values\n",
    "    y_hat = np.where(scores, 1, 0)\n",
    "\n",
    "    # get all the metrics on the model\n",
    "    metrics = {\n",
    "        \"model_ratio\": [ratio],\n",
    "        \"accuracy\": [accuracy_score(val_y, y_hat)],\n",
    "        \"precision\": [precision_score(val_y, y_hat)],\n",
    "        \"recall\": [recall_score(val_y, y_hat)],\n",
    "    }\n",
    "\n",
    "    metrics_df = pd.DataFrame.from_dict(data=metrics, orient=\"columns\")\n",
    "    metrics_list.append(metrics_df)\n",
    "\n",
    "metrics_df = pd.concat(metrics_list)\n",
    "metrics_df.to_csv(\"data/metrics.csv\", index=False)\n",
    "with open(\"data/scores.json\", \"w\") as f:\n",
    "    json.dump({k: scores_dict[k].tolist() for k in scores_dict.keys()}, f)\n",
    "    "
   ]
  },
  {
   "cell_type": "code",
   "execution_count": 111,
   "id": "7d8236ba",
   "metadata": {},
   "outputs": [],
   "source": [
    "true_df = pd.DataFrame(val_y, columns=[\"true\"])\n",
    "true_df.to_csv(\"data/true.csv\", index=False)"
   ]
  },
  {
   "cell_type": "code",
   "execution_count": 67,
   "id": "01b7561d",
   "metadata": {},
   "outputs": [
    {
     "name": "stdout",
     "output_type": "stream",
     "text": [
      "              precision    recall  f1-score   support\n",
      "\n",
      "           0       0.97      0.55      0.70        55\n",
      "           1       0.58      0.97      0.72        35\n",
      "\n",
      "    accuracy                           0.71        90\n",
      "   macro avg       0.77      0.76      0.71        90\n",
      "weighted avg       0.82      0.71      0.71        90\n",
      "\n",
      "[[30 25]\n",
      " [ 1 34]]\n"
     ]
    }
   ],
   "source": [
    "print(classification_report(val_y, y_hat))\n",
    "print(confusion_matrix(val_y, y_hat))"
   ]
  },
  {
   "cell_type": "code",
   "execution_count": 68,
   "id": "baee382d",
   "metadata": {},
   "outputs": [
    {
     "data": {
      "text/html": [
       "<div>\n",
       "<style scoped>\n",
       "    .dataframe tbody tr th:only-of-type {\n",
       "        vertical-align: middle;\n",
       "    }\n",
       "\n",
       "    .dataframe tbody tr th {\n",
       "        vertical-align: top;\n",
       "    }\n",
       "\n",
       "    .dataframe thead th {\n",
       "        text-align: right;\n",
       "    }\n",
       "</style>\n",
       "<table border=\"1\" class=\"dataframe\">\n",
       "  <thead>\n",
       "    <tr style=\"text-align: right;\">\n",
       "      <th></th>\n",
       "      <th>model_ratio</th>\n",
       "      <th>accuracy</th>\n",
       "      <th>precision</th>\n",
       "      <th>recall</th>\n",
       "    </tr>\n",
       "  </thead>\n",
       "  <tbody>\n",
       "    <tr>\n",
       "      <th>0</th>\n",
       "      <td>1.0</td>\n",
       "      <td>0.411111</td>\n",
       "      <td>0.395349</td>\n",
       "      <td>0.971429</td>\n",
       "    </tr>\n",
       "    <tr>\n",
       "      <th>0</th>\n",
       "      <td>1.1</td>\n",
       "      <td>0.422222</td>\n",
       "      <td>0.400000</td>\n",
       "      <td>0.971429</td>\n",
       "    </tr>\n",
       "    <tr>\n",
       "      <th>0</th>\n",
       "      <td>1.2</td>\n",
       "      <td>0.444444</td>\n",
       "      <td>0.409639</td>\n",
       "      <td>0.971429</td>\n",
       "    </tr>\n",
       "    <tr>\n",
       "      <th>0</th>\n",
       "      <td>1.3</td>\n",
       "      <td>0.400000</td>\n",
       "      <td>0.388235</td>\n",
       "      <td>0.942857</td>\n",
       "    </tr>\n",
       "    <tr>\n",
       "      <th>0</th>\n",
       "      <td>1.4</td>\n",
       "      <td>0.411111</td>\n",
       "      <td>0.395349</td>\n",
       "      <td>0.971429</td>\n",
       "    </tr>\n",
       "    <tr>\n",
       "      <th>...</th>\n",
       "      <td>...</td>\n",
       "      <td>...</td>\n",
       "      <td>...</td>\n",
       "      <td>...</td>\n",
       "    </tr>\n",
       "    <tr>\n",
       "      <th>0</th>\n",
       "      <td>9.6</td>\n",
       "      <td>0.633333</td>\n",
       "      <td>0.516667</td>\n",
       "      <td>0.885714</td>\n",
       "    </tr>\n",
       "    <tr>\n",
       "      <th>0</th>\n",
       "      <td>9.7</td>\n",
       "      <td>0.655556</td>\n",
       "      <td>0.534483</td>\n",
       "      <td>0.885714</td>\n",
       "    </tr>\n",
       "    <tr>\n",
       "      <th>0</th>\n",
       "      <td>9.8</td>\n",
       "      <td>0.655556</td>\n",
       "      <td>0.534483</td>\n",
       "      <td>0.885714</td>\n",
       "    </tr>\n",
       "    <tr>\n",
       "      <th>0</th>\n",
       "      <td>9.9</td>\n",
       "      <td>0.744444</td>\n",
       "      <td>0.615385</td>\n",
       "      <td>0.914286</td>\n",
       "    </tr>\n",
       "    <tr>\n",
       "      <th>0</th>\n",
       "      <td>10.0</td>\n",
       "      <td>0.711111</td>\n",
       "      <td>0.576271</td>\n",
       "      <td>0.971429</td>\n",
       "    </tr>\n",
       "  </tbody>\n",
       "</table>\n",
       "<p>91 rows × 4 columns</p>\n",
       "</div>"
      ],
      "text/plain": [
       "    model_ratio  accuracy  precision    recall\n",
       "0           1.0  0.411111   0.395349  0.971429\n",
       "0           1.1  0.422222   0.400000  0.971429\n",
       "0           1.2  0.444444   0.409639  0.971429\n",
       "0           1.3  0.400000   0.388235  0.942857\n",
       "0           1.4  0.411111   0.395349  0.971429\n",
       "..          ...       ...        ...       ...\n",
       "0           9.6  0.633333   0.516667  0.885714\n",
       "0           9.7  0.655556   0.534483  0.885714\n",
       "0           9.8  0.655556   0.534483  0.885714\n",
       "0           9.9  0.744444   0.615385  0.914286\n",
       "0          10.0  0.711111   0.576271  0.971429\n",
       "\n",
       "[91 rows x 4 columns]"
      ]
     },
     "execution_count": 68,
     "metadata": {},
     "output_type": "execute_result"
    }
   ],
   "source": [
    "metrics_df"
   ]
  },
  {
   "cell_type": "code",
   "execution_count": 108,
   "id": "19c3dc22",
   "metadata": {},
   "outputs": [],
   "source": [
    "scores_df = pd.DataFrame(scores_dict[1.0], columns=[\"proba\"])\n",
    "scores_df = pd.merge(left=scores_df, right=true_df, left_index=True, right_index=True)"
   ]
  },
  {
   "cell_type": "code",
   "execution_count": 114,
   "id": "cef8104f",
   "metadata": {},
   "outputs": [
    {
     "data": {
      "text/plain": [
       "(array([10.,  9.,  7.,  4.,  3.,  5.,  4.,  0.,  1.,  2.,  0.,  1.,  2.,\n",
       "         2.,  0.,  0.,  3.,  0.,  1.,  1.]),\n",
       " array([0.  , 0.05, 0.1 , 0.15, 0.2 , 0.25, 0.3 , 0.35, 0.4 , 0.45, 0.5 ,\n",
       "        0.55, 0.6 , 0.65, 0.7 , 0.75, 0.8 , 0.85, 0.9 , 0.95, 1.  ]),\n",
       " <BarContainer object of 20 artists>)"
      ]
     },
     "execution_count": 114,
     "metadata": {},
     "output_type": "execute_result"
    },
    {
     "data": {
      "image/png": "[encoded data removed]",
      "text/plain": [
       "<Figure size 432x288 with 1 Axes>"
      ]
     },
     "metadata": {
      "needs_background": "light"
     },
     "output_type": "display_data"
    }
   ],
   "source": [
    "plt.hist(\n",
    "    scores_df.query(\"true==1\")[\"proba\"],\n",
    "    bins=[0.05 * x for x in range(21)],\n",
    "    label=\"Negative\",\n",
    ")\n",
    "plt.hist(\n",
    "    scores_df.query(\"true==0\")[\"proba\"],\n",
    "    bins=[0.05 * x for x in range(21)],\n",
    "    label=\"Positive\",\n",
    ")"
   ]
  },
  {
   "cell_type": "code",
   "execution_count": null,
   "id": "12656110",
   "metadata": {},
   "outputs": [],
   "source": []
  }
 ],
 "metadata": {
  "kernelspec": {
   "display_name": "deeplearning_nd",
   "language": "python",
   "name": "deeplearning_nd"
  },
  "language_info": {
   "codemirror_mode": {
    "name": "ipython",
    "version": 3
   },
   "file_extension": ".py",
   "mimetype": "text/x-python",
   "name": "python",
   "nbconvert_exporter": "python",
   "pygments_lexer": "ipython3",
   "version": "3.10.4"
  }
 },
 "nbformat": 4,
 "nbformat_minor": 5
}
