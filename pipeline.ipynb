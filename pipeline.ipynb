{
 "cells": [
  {
   "cell_type": "markdown",
   "id": "f412a897",
   "metadata": {},
   "source": [
    "# Exploring the effect of class imbalance on model performance\n",
    "\n",
    "Starting with the Titanic dataset as a balanced one, we will make the training data more and more imbalanced to show the effects of trying to train with fewer and fewer positive samples."
   ]
  },
  {
   "cell_type": "code",
   "execution_count": 1,
   "id": "697ddbc5",
   "metadata": {},
   "outputs": [],
   "source": [
    "import numpy as np\n",
    "import pandas as pd"
   ]
  },
  {
   "cell_type": "code",
   "execution_count": 2,
   "id": "4580244d",
   "metadata": {},
   "outputs": [],
   "source": [
    "from helpers import preprocessor_pipeline\n",
    "from sklearn.model_selection import train_test_split"
   ]
  },
  {
   "cell_type": "code",
   "execution_count": 3,
   "id": "df357e07",
   "metadata": {},
   "outputs": [],
   "source": [
    "from helpers import CustomImputer"
   ]
  },
  {
   "cell_type": "markdown",
   "id": "0b93debc",
   "metadata": {},
   "source": [
    "## Load data and split into train/val"
   ]
  },
  {
   "cell_type": "code",
   "execution_count": 4,
   "id": "e174b594",
   "metadata": {},
   "outputs": [],
   "source": [
    "train_df = pd.read_csv(\"data/train.csv\")\n",
    "\n",
    "train_df, val_df = train_test_split(train_df, test_size=0.1, random_state=1, stratify=train_df['Survived'])\n",
    "train_df, val_df = (train_df.copy(), val_df.copy())"
   ]
  },
  {
   "cell_type": "markdown",
   "id": "37fa2506",
   "metadata": {},
   "source": [
    "## Preprocessing the data"
   ]
  },
  {
   "cell_type": "code",
   "execution_count": 5,
   "id": "6827921a",
   "metadata": {},
   "outputs": [],
   "source": [
    "categorical_fts = ['Pclass', 'Embarked', \"Sex\"]\n",
    "numerical_fts = ['Age', 'Fare']\n",
    "\n",
    "input_features = numerical_fts + categorical_fts"
   ]
  },
  {
   "cell_type": "code",
   "execution_count": 6,
   "id": "08b55fa1",
   "metadata": {},
   "outputs": [],
   "source": [
    "preprocessor = preprocessor_pipeline(scaling=True)"
   ]
  },
  {
   "cell_type": "code",
   "execution_count": 7,
   "id": "850cd110",
   "metadata": {},
   "outputs": [],
   "source": [
    "train_tf = preprocessor.fit_transform(train_df[input_features])\n",
    "train_y = train_df['Survived'].values\n",
    "\n",
    "val_tf = preprocessor.transform(val_df[input_features])\n",
    "val_y = val_df['Survived'].values"
   ]
  },
  {
   "cell_type": "markdown",
   "id": "23c0ff0c",
   "metadata": {},
   "source": [
    "## Modelling"
   ]
  },
  {
   "cell_type": "code",
   "execution_count": 9,
   "id": "b8f7fe99",
   "metadata": {},
   "outputs": [],
   "source": [
    "from sklearn.ensemble import RandomForestClassifier"
   ]
  },
  {
   "cell_type": "code",
   "execution_count": 10,
   "id": "91fa6efd",
   "metadata": {},
   "outputs": [],
   "source": [
    "clf = RandomForestClassifier()"
   ]
  },
  {
   "cell_type": "code",
   "execution_count": 12,
   "id": "97c35e7c",
   "metadata": {},
   "outputs": [],
   "source": [
    "trained_model = clf.fit(train_tf, train_y)"
   ]
  },
  {
   "cell_type": "markdown",
   "id": "8650e547",
   "metadata": {},
   "source": [
    "## Validation"
   ]
  },
  {
   "cell_type": "code",
   "execution_count": 13,
   "id": "acdf922b",
   "metadata": {},
   "outputs": [],
   "source": [
    "from sklearn.metrics import (\n",
    "    classification_report,\n",
    "    confusion_matrix,\n",
    "    accuracy_score,\n",
    "    precision_score,\n",
    "    recall_score\n",
    ")"
   ]
  },
  {
   "cell_type": "code",
   "execution_count": 14,
   "id": "ddb7dac9",
   "metadata": {},
   "outputs": [],
   "source": [
    "scores = clf.predict_proba(val_tf)[:, 1]"
   ]
  },
  {
   "cell_type": "code",
   "execution_count": 15,
   "id": "5584fe43",
   "metadata": {},
   "outputs": [],
   "source": [
    "y_hat = np.where(scores, 1, 0)"
   ]
  },
  {
   "cell_type": "code",
   "execution_count": 16,
   "id": "14e6d6d4",
   "metadata": {},
   "outputs": [
    {
     "name": "stdout",
     "output_type": "stream",
     "text": [
      "              precision    recall  f1-score   support\n",
      "\n",
      "           0       0.86      0.22      0.35        55\n",
      "           1       0.43      0.94      0.59        35\n",
      "\n",
      "    accuracy                           0.50        90\n",
      "   macro avg       0.65      0.58      0.47        90\n",
      "weighted avg       0.69      0.50      0.44        90\n",
      "\n",
      "[[12 43]\n",
      " [ 2 33]]\n"
     ]
    }
   ],
   "source": [
    "print(classification_report(val_y, y_hat))\n",
    "print(confusion_matrix(val_y, y_hat))"
   ]
  },
  {
   "cell_type": "code",
   "execution_count": 17,
   "id": "d634f778",
   "metadata": {},
   "outputs": [
    {
     "name": "stdout",
     "output_type": "stream",
     "text": [
      "Accuracy - 0.500\n",
      "Precision - 0.434\n",
      "Recall - 0.943\n"
     ]
    }
   ],
   "source": [
    "print(\"Accuracy - {:.3f}\".format(accuracy_score(val_y, y_hat)))\n",
    "print(\"Precision - {:.3f}\".format(precision_score(val_y, y_hat)))\n",
    "print(\"Recall - {:.3f}\".format(recall_score(val_y, y_hat)))"
   ]
  },
  {
   "cell_type": "code",
   "execution_count": 66,
   "id": "c320b2d6",
   "metadata": {},
   "outputs": [],
   "source": [
    "import matplotlib.pyplot as plt"
   ]
  },
  {
   "cell_type": "code",
   "execution_count": 67,
   "id": "f079cd4c",
   "metadata": {},
   "outputs": [
    {
     "data": {
      "text/plain": [
       "(array([35., 12.,  9.,  1.,  3.,  5.,  3.,  3.,  4., 15.]),\n",
       " array([0. , 0.1, 0.2, 0.3, 0.4, 0.5, 0.6, 0.7, 0.8, 0.9, 1. ]),\n",
       " <BarContainer object of 10 artists>)"
      ]
     },
     "execution_count": 67,
     "metadata": {},
     "output_type": "execute_result"
    },
    {
     "data": {
      "image/png": "[encoded data removed]",
      "text/plain": [
       "<Figure size 432x288 with 1 Axes>"
      ]
     },
     "metadata": {
      "needs_background": "light"
     },
     "output_type": "display_data"
    }
   ],
   "source": [
    "plt.hist(scores)"
   ]
  },
  {
   "cell_type": "code",
   "execution_count": null,
   "id": "8d12edb3",
   "metadata": {},
   "outputs": [],
   "source": []
  }
 ],
 "metadata": {
  "kernelspec": {
   "display_name": "deeplearning_nd",
   "language": "python",
   "name": "deeplearning_nd"
  },
  "language_info": {
   "codemirror_mode": {
    "name": "ipython",
    "version": 3
   },
   "file_extension": ".py",
   "mimetype": "text/x-python",
   "name": "python",
   "nbconvert_exporter": "python",
   "pygments_lexer": "ipython3",
   "version": "3.10.4"
  }
 },
 "nbformat": 4,
 "nbformat_minor": 5
}
