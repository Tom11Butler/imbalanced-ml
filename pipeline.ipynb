{
 "cells": [
  {
   "cell_type": "markdown",
   "id": "22b9076a",
   "metadata": {},
   "source": [
    "# Exploring the effect of class imbalance on model performance\n",
    "\n",
    "Starting with the Titanic dataset as a balanced one, we will make the training data more and more imbalanced to show the effects of trying to train with fewer and fewer positive samples."
   ]
  },
  {
   "cell_type": "code",
   "execution_count": 1,
   "id": "5179b6c1",
   "metadata": {},
   "outputs": [],
   "source": [
    "import numpy as np\n",
    "import pandas as pd"
   ]
  },
  {
   "cell_type": "code",
   "execution_count": 26,
   "id": "849b9f42",
   "metadata": {},
   "outputs": [],
   "source": [
    "from helpers import preprocessor_pipeline\n",
    "from sklearn.model_selection import train_test_split"
   ]
  },
  {
   "cell_type": "markdown",
   "id": "90e3a931",
   "metadata": {},
   "source": [
    "## Load data and split into train/val"
   ]
  },
  {
   "cell_type": "code",
   "execution_count": 32,
   "id": "ac8bc6b8",
   "metadata": {},
   "outputs": [],
   "source": [
    "train = pd.read_csv(\"data/train.csv\")\n",
    "\n",
    "train, val = train_test_split(train, test_size=0.1, random_state=1, stratify=train['Survived'])\n",
    "train, val = (train.copy(), val.copy())"
   ]
  },
  {
   "cell_type": "markdown",
   "id": "0cbad8d5",
   "metadata": {},
   "source": [
    "## Preprocessing the data"
   ]
  },
  {
   "cell_type": "code",
   "execution_count": 33,
   "id": "a195922b",
   "metadata": {},
   "outputs": [],
   "source": [
    "categorical_fts = ['Pclass', 'Embarked', \"Sex\"]\n",
    "numerical_fts = ['Age', 'Fare']\n",
    "\n",
    "input_features = numerical_fts + categorical_fts"
   ]
  },
  {
   "cell_type": "code",
   "execution_count": 34,
   "id": "ffc2af47",
   "metadata": {},
   "outputs": [],
   "source": [
    "preprocessor = preprocessor_pipeline(scaling=True)"
   ]
  },
  {
   "cell_type": "code",
   "execution_count": 35,
   "id": "617ac9e9",
   "metadata": {},
   "outputs": [],
   "source": [
    "train_tf = preprocessor.fit_transform(train[input_features])\n",
    "train_y = train['Survived'].values\n",
    "\n",
    "val_tf = preprocessor.transform(val[input_features])\n",
    "val_y = val['Survived'].values"
   ]
  },
  {
   "cell_type": "markdown",
   "id": "eb96de6e",
   "metadata": {},
   "source": [
    "## Modelling"
   ]
  },
  {
   "cell_type": "code",
   "execution_count": 36,
   "id": "00d1d303",
   "metadata": {},
   "outputs": [],
   "source": [
    "from sklearn.ensemble import RandomForestClassifier"
   ]
  },
  {
   "cell_type": "code",
   "execution_count": 37,
   "id": "3c41d704",
   "metadata": {},
   "outputs": [],
   "source": [
    "clf = RandomForestClassifier()"
   ]
  },
  {
   "cell_type": "code",
   "execution_count": 39,
   "id": "6c60d3ca",
   "metadata": {},
   "outputs": [],
   "source": [
    "trained_model = clf.fit(train_tf, train_y)"
   ]
  },
  {
   "cell_type": "markdown",
   "id": "a97812e5",
   "metadata": {},
   "source": [
    "## Validation"
   ]
  },
  {
   "cell_type": "code",
   "execution_count": 42,
   "id": "27881bc5",
   "metadata": {},
   "outputs": [],
   "source": [
    "from sklearn.metrics import classification_report, confusion_matrix"
   ]
  },
  {
   "cell_type": "code",
   "execution_count": 63,
   "id": "69a20de9",
   "metadata": {},
   "outputs": [],
   "source": [
    "scores = clf.predict_proba(val_tf)[:, 1]"
   ]
  },
  {
   "cell_type": "code",
   "execution_count": 64,
   "id": "fff80083",
   "metadata": {},
   "outputs": [],
   "source": [
    "y_hat = np.where(scores, 1, 0)"
   ]
  },
  {
   "cell_type": "code",
   "execution_count": 65,
   "id": "ac3a0301",
   "metadata": {},
   "outputs": [
    {
     "name": "stdout",
     "output_type": "stream",
     "text": [
      "              precision    recall  f1-score   support\n",
      "\n",
      "           0       0.13      0.78      0.22         9\n",
      "           1       0.94      0.41      0.57        81\n",
      "\n",
      "    accuracy                           0.44        90\n",
      "   macro avg       0.54      0.59      0.39        90\n",
      "weighted avg       0.86      0.44      0.53        90\n",
      "\n",
      "[[ 7  2]\n",
      " [48 33]]\n"
     ]
    }
   ],
   "source": [
    "print(classification_report(y_hat, val_y))\n",
    "print(confusion_matrix(y_hat, val_y))"
   ]
  },
  {
   "cell_type": "code",
   "execution_count": 66,
   "id": "d0350bdc",
   "metadata": {},
   "outputs": [],
   "source": [
    "import matplotlib.pyplot as plt"
   ]
  },
  {
   "cell_type": "code",
   "execution_count": 67,
   "id": "ac501903",
   "metadata": {},
   "outputs": [
    {
     "data": {
      "text/plain": [
       "(array([35., 12.,  9.,  1.,  3.,  5.,  3.,  3.,  4., 15.]),\n",
       " array([0. , 0.1, 0.2, 0.3, 0.4, 0.5, 0.6, 0.7, 0.8, 0.9, 1. ]),\n",
       " <BarContainer object of 10 artists>)"
      ]
     },
     "execution_count": 67,
     "metadata": {},
     "output_type": "execute_result"
    },
    {
     "data": {
      "image/png": "[encoded data removed]",
      "text/plain": [
       "<Figure size 432x288 with 1 Axes>"
      ]
     },
     "metadata": {
      "needs_background": "light"
     },
     "output_type": "display_data"
    }
   ],
   "source": [
    "plt.hist(scores)"
   ]
  },
  {
   "cell_type": "code",
   "execution_count": null,
   "id": "af8f74aa",
   "metadata": {},
   "outputs": [],
   "source": []
  }
 ],
 "metadata": {
  "kernelspec": {
   "display_name": "deeplearning_nd",
   "language": "python",
   "name": "deeplearning_nd"
  },
  "language_info": {
   "codemirror_mode": {
    "name": "ipython",
    "version": 3
   },
   "file_extension": ".py",
   "mimetype": "text/x-python",
   "name": "python",
   "nbconvert_exporter": "python",
   "pygments_lexer": "ipython3",
   "version": "3.10.4"
  }
 },
 "nbformat": 4,
 "nbformat_minor": 5
}
